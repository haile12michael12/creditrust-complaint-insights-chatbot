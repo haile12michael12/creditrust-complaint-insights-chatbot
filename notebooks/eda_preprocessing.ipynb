{
 "cells": [
  {
   "cell_type": "code",
   "execution_count": null,
   "id": "3eb9f326",
   "metadata": {},
   "outputs": [],
   "source": []
  },
  {
   "cell_type": "code",
   "execution_count": null,
   "id": "d0db5e90",
   "metadata": {},
   "outputs": [],
   "source": [
    "# Step 1: Load necessary libraries\n",
    "import pandas as pd\n",
    "import matplotlib.pyplot as plt\n",
    "import seaborn as sns\n",
    "import re\n",
    "import os\n"
   ]
  },
  {
   "cell_type": "code",
   "execution_count": null,
   "id": "c2962a2f",
   "metadata": {},
   "outputs": [],
   "source": [
    "# Step 2: Load the dataset\n",
    "df = pd.read_csv('c:/data science/10 academy/week-6/Technical content/Data/complaint.xlsx')"
   ]
  },
  {
   "cell_type": "code",
   "execution_count": null,
   "id": "b104233d",
   "metadata": {},
   "outputs": [],
   "source": [
    "# Step 3: Initial EDA\n",
    "print(df.columns)\n",
    "\n",
    "# Check for missing values\n",
    "df.isnull().sum()\n",
    "\n",
    "# Number of complaints with and without narratives\n",
    "has_narrative = df['Consumer complaint narrative'].notnull().sum()\n",
    "no_narrative = df['Consumer complaint narrative'].isnull().sum()\n",
    "\n",
    "print(f\"Complaints with narrative: {has_narrative}\")\n",
    "print(f\"Complaints without narrative: {no_narrative}\")"
   ]
  },
  {
   "cell_type": "code",
   "execution_count": null,
   "id": "2b143745",
   "metadata": {},
   "outputs": [],
   "source": [
    "# Step 4: Analyze product distribution\n",
    "top_products = df['Product'].value_counts()\n",
    "plt.figure(figsize=(12, 6))\n",
    "sns.barplot(x=top_products.head(10).index, y=top_products.head(10).values)\n",
    "plt.title(\"Top 10 Products by Complaint Count\")\n",
    "plt.xticks(rotation=45)\n",
    "plt.ylabel(\"Number of Complaints\")\n",
    "plt.tight_layout()\n",
    "plt.show()"
   ]
  },
  {
   "cell_type": "code",
   "execution_count": null,
   "id": "a7fccbc5",
   "metadata": {},
   "outputs": [],
   "source": [
    "# Step 5: Analyze narrative length\n",
    "df['narrative_length'] = df['Consumer complaint narrative'].dropna().apply(lambda x: len(x.split()))\n",
    "plt.figure(figsize=(10, 5))\n",
    "sns.histplot(df['narrative_length'].dropna(), bins=50, kde=True)\n",
    "plt.title(\"Distribution of Narrative Word Count\")\n",
    "plt.xlabel(\"Word Count\")\n",
    "plt.ylabel(\"Frequency\")\n",
    "plt.show()\n",
    "\n",
    "print(\"Shortest narrative:\", df['narrative_length'].min())\n",
    "print(\"Longest narrative:\", df['narrative_length'].max())"
   ]
  },
  {
   "cell_type": "code",
   "execution_count": null,
   "id": "85964494",
   "metadata": {},
   "outputs": [],
   "source": [
    "# Step 6: Filter dataset for specific products\n",
    "TARGET_PRODUCTS = [\n",
    "    'Credit card', \n",
    "    'Personal loan', \n",
    "    'Buy Now, Pay Later (BNPL)', \n",
    "    'Savings account', \n",
    "    'Money transfer, virtual currency, or money service'\n",
    "]\n",
    "\n",
    "# Normalize the Product column to avoid inconsistencies\n",
    "df['Product'] = df['Product'].str.strip()\n",
    "filtered_df = df[df['Product'].isin(TARGET_PRODUCTS)].copy()\n",
    "filtered_df = filtered_df[filtered_df['Consumer complaint narrative'].notnull()].copy()\n",
    "\n",
    "print(\"Filtered dataset shape:\", filtered_df.shape)"
   ]
  },
  {
   "cell_type": "code",
   "execution_count": null,
   "id": "23cebb73",
   "metadata": {},
   "outputs": [],
   "source": [
    "# Step 7: Clean narratives\n",
    "def clean_text(text):\n",
    "    text = text.lower()\n",
    "    text = re.sub(r'\\n+', ' ', text)\n",
    "    text = re.sub(r'[^a-z0-9\\s]', '', text)\n",
    "    text = re.sub(r'\\s+', ' ', text)\n",
    "    # Remove common boilerplate (optional)\n",
    "    boilerplate_phrases = [\n",
    "        \"i am writing to file a complaint\",\n",
    "        \"i would like to report\",\n",
    "        \"this is regarding\"\n",
    "    ]\n",
    "    for phrase in boilerplate_phrases:\n",
    "        text = text.replace(phrase, '')\n",
    "    return text.strip()\n",
    "\n",
    "filtered_df['cleaned_narrative'] = filtered_df['Consumer complaint narrative'].apply(clean_text)\n"
   ]
  },
  {
   "cell_type": "code",
   "execution_count": null,
   "id": "35755878",
   "metadata": {},
   "outputs": [],
   "source": [
    "# Step 8: Save cleaned dataset\n",
    "filtered_df.to_csv('../data/filtered_complaints.csv', index=False)\n",
    "print(\"Saved to data/filtered_complaints.csv\")"
   ]
  }
 ],
 "metadata": {
  "kernelspec": {
   "display_name": "Python 3",
   "language": "python",
   "name": "python3"
  },
  "language_info": {
   "codemirror_mode": {
    "name": "ipython",
    "version": 3
   },
   "file_extension": ".py",
   "mimetype": "text/x-python",
   "name": "python",
   "nbconvert_exporter": "python",
   "pygments_lexer": "ipython3",
   "version": "3.13.3"
  }
 },
 "nbformat": 4,
 "nbformat_minor": 5
}
